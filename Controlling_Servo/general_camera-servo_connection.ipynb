{
 "cells": [
  {
   "cell_type": "code",
   "execution_count": null,
   "id": "c979b04f",
   "metadata": {},
   "outputs": [],
   "source": [
    "import cv2\n",
    "import numpy as np\n",
    "from PCA9685 import PCA9685"
   ]
  },
  {
   "cell_type": "code",
   "execution_count": null,
   "id": "abf283cd",
   "metadata": {},
   "outputs": [],
   "source": [
    "pwm = PCA9685(0x40, debug=False)\n",
    "pwm.setPWMFreq(50)\n",
    "pwm.setServoPosition(0, 90)\n",
    "\n",
    "cap = cv2.VideoCapture(0)\n",
    "# Set camera resolution\n",
    "cap.set(3, 480)\n",
    "cap.set(4, 320)\n",
    "_, frame = cap.read()\n",
    "rows, cols, _ = frame.shape\n",
    "\n",
    "x_medium = int(cols / 2)\n",
    "center = int(cols / 2)\n",
    "position = 90 # degrees\n",
    "\n",
    "while True:\n",
    "    _, frame = cap.read()\n",
    "    hsv_frame = cv2.cvtColor(frame, cv2.COLOR_BGR2HSV)\n",
    "    \n",
    "    # red color\n",
    "    low_red = np.array([161, 155, 84])\n",
    "    high_red = np.array([179, 255, 255])\n",
    "    red_mask = cv2.inRange(hsv_frame, low_red, high_red)\n",
    "    _, contours, _ = cv2.findContours(red_mask, cv2.RETR_TREE, cv2.CHAIN_APPROX_SIMPLE)\n",
    "    contours = sorted(contours, key=lambda x:cv2.contourArea(x), reverse=True)\n",
    "\n",
    "for cnt in contours:\n",
    "       (x, y, w, h) = cv2.boundingRect(cnt)\n",
    "        \n",
    "       x_medium = int((x + x + w) / 2)\n",
    "       break\n",
    "    \n",
    "   cv2.line(frame, (x_medium, 0), (x_medium, 480), (0, 255, 0), 2)\n",
    "\n",
    "# Move servo motor\n",
    "if x_medium < center -30:\n",
    "    position += 1\n",
    "elif x_medium > center + 30:\n",
    "    position -= 1\n",
    "pwm.setServoPosition(0, position)\n",
    "\n",
    "cv2.line(frame, (x_medium, 0), (x_medium, 480), (0, 255, 0), 2)\n",
    "    \n",
    "    cv2.imshow(\"Frame\", frame)\n",
    "    key = cv2.waitKey(1)\n",
    "    \n",
    "    if key == 27:\n",
    "        break\n",
    "    \n",
    "cap.release()\n",
    "cv2.destroyAllWindows() "
   ]
  }
 ],
 "metadata": {
  "kernelspec": {
   "display_name": "Python 3",
   "language": "python",
   "name": "python3"
  },
  "language_info": {
   "codemirror_mode": {
    "name": "ipython",
    "version": 3
   },
   "file_extension": ".py",
   "mimetype": "text/x-python",
   "name": "python",
   "nbconvert_exporter": "python",
   "pygments_lexer": "ipython3",
   "version": "3.8.8"
  }
 },
 "nbformat": 4,
 "nbformat_minor": 5
}
